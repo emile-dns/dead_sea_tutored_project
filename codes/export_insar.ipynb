{
 "cells": [
  {
   "cell_type": "markdown",
   "metadata": {},
   "source": [
    "# Export InSAR data"
   ]
  },
  {
   "cell_type": "markdown",
   "metadata": {},
   "source": [
    "## Tools"
   ]
  },
  {
   "cell_type": "markdown",
   "metadata": {},
   "source": [
    "*Modules*"
   ]
  },
  {
   "cell_type": "code",
   "execution_count": 39,
   "metadata": {},
   "outputs": [],
   "source": [
    "import numpy as np\n",
    "from osgeo import gdal, osr\n",
    "import matplotlib.pyplot as plt\n",
    "import datetime"
   ]
  },
  {
   "cell_type": "code",
   "execution_count": 2,
   "metadata": {},
   "outputs": [],
   "source": [
    "gdal.UseExceptions()\n",
    "gdal.SetCacheMax(32)"
   ]
  },
  {
   "cell_type": "markdown",
   "metadata": {},
   "source": [
    "*Paths*"
   ]
  },
  {
   "cell_type": "code",
   "execution_count": 3,
   "metadata": {},
   "outputs": [],
   "source": [
    "# paths\n",
    "wkdir = \"/Users/emile/Documents/Etude/2024_2025_M2/tutored_project\"\n",
    "datadir = \"{:}/data\".format(wkdir)\n",
    "plotdir = \"{:}/figures\".format(wkdir)"
   ]
  },
  {
   "cell_type": "markdown",
   "metadata": {},
   "source": [
    "*Parameters*"
   ]
  },
  {
   "cell_type": "code",
   "execution_count": 4,
   "metadata": {},
   "outputs": [],
   "source": [
    "rad2cm = - 5.5465763 / (4*np.pi)\n",
    "\n",
    "crs_geo = 'EPSG:4326'\n",
    "crs_utm = 'EPSG:32636'"
   ]
  },
  {
   "cell_type": "code",
   "execution_count": null,
   "metadata": {},
   "outputs": [],
   "source": [
    "from pyproj import Transformer"
   ]
  },
  {
   "cell_type": "markdown",
   "metadata": {},
   "source": [
    "## Load InSAR velocities"
   ]
  },
  {
   "cell_type": "markdown",
   "metadata": {},
   "source": [
    "*Ascending track*"
   ]
  },
  {
   "cell_type": "code",
   "execution_count": 5,
   "metadata": {},
   "outputs": [],
   "source": [
    "foldername = 'NSBAS_TS-PKG_S1_LEVANT-A087-VV-2015-2021_IW123_2015-03-04_2021-04-25'"
   ]
  },
  {
   "cell_type": "code",
   "execution_count": 6,
   "metadata": {},
   "outputs": [],
   "source": [
    "# Mean LOS velocity\n",
    "\n",
    "data_ = gdal.OpenEx(\"{:}/InSAR_FLATSIM/{:}/CNES_MV-LOS_geo_8rlks.tiff\".format(datadir, foldername), \n",
    "                    nOpenFlags=gdal.GA_ReadOnly)\n",
    "\n",
    "ny = data_.RasterYSize\n",
    "nx = data_.RasterXSize\n",
    "nband = data_.RasterCount\n",
    "no_data_value = data_.GetRasterBand(1).GetNoDataValue()\n",
    "\n",
    "insar_asc_vel = data_.GetRasterBand(1).ReadAsArray(0, 0, nx, ny) * rad2cm\n",
    "insar_asc_mask_nodata = insar_asc_vel == no_data_value"
   ]
  },
  {
   "cell_type": "code",
   "execution_count": 7,
   "metadata": {},
   "outputs": [],
   "source": [
    "# Lon / lat coordinates (EPSG:4326)\n",
    "\n",
    "xoff, a, b, yoff, d, e = data_.GetGeoTransform()\n",
    "old_cs = osr.SpatialReference()\n",
    "old_cs.ImportFromWkt(data_.GetProjectionRef())\n",
    "new_cs = osr.SpatialReference()\n",
    "new_cs.ImportFromEPSG(4326)\n",
    "transform = osr.CoordinateTransformation(old_cs, new_cs)\n",
    "\n",
    "x_ = np.arange(nx)\n",
    "y_ = np.arange(ny)\n",
    "X, Y = np.meshgrid(x_, y_)\n",
    "\n",
    "x = a*X + b*Y + xoff\n",
    "y = d*X + e*Y + yoff\n",
    "\n",
    "insar_asc_lon = np.zeros_like(insar_asc_vel)\n",
    "insar_asc_lat = np.zeros_like(insar_asc_vel)\n",
    "\n",
    "for i in range(ny):\n",
    "    for j in range(nx):\n",
    "        lon_, lat_, _ = transform.TransformPoint(x[i, j], y[i, j])\n",
    "        \n",
    "        insar_asc_lon[i, j] = lon_\n",
    "        insar_asc_lat[i, j] = lat_"
   ]
  },
  {
   "cell_type": "code",
   "execution_count": 8,
   "metadata": {},
   "outputs": [],
   "source": [
    "# X / Y coordinates UTM (EPSG:32636)\n",
    "\n",
    "xoff, a, b, yoff, d, e = data_.GetGeoTransform()\n",
    "old_cs = osr.SpatialReference()\n",
    "old_cs.ImportFromWkt(data_.GetProjectionRef())\n",
    "new_cs = osr.SpatialReference()\n",
    "new_cs.ImportFromEPSG(32636)\n",
    "transform = osr.CoordinateTransformation(old_cs, new_cs)\n",
    "\n",
    "x_ = np.arange(nx)\n",
    "y_ = np.arange(ny)\n",
    "X, Y = np.meshgrid(x_, y_)\n",
    "\n",
    "x = a*X + b*Y + xoff\n",
    "y = d*X + e*Y + yoff\n",
    "\n",
    "insar_asc_x = np.zeros_like(insar_asc_vel)\n",
    "insar_asc_y = np.zeros_like(insar_asc_vel)\n",
    "\n",
    "for i in range(ny):\n",
    "    for j in range(nx):\n",
    "        x__, y__, __ = transform.TransformPoint(y[i, j], x[i, j])\n",
    "\n",
    "        insar_asc_x[i, j] = x__\n",
    "        insar_asc_y[i, j] = y__\n",
    "\n",
    "del data_"
   ]
  },
  {
   "cell_type": "code",
   "execution_count": 9,
   "metadata": {},
   "outputs": [],
   "source": [
    "# LOS\n",
    "\n",
    "data_ = gdal.OpenEx(\"{:}/InSAR_FLATSIM/{:}/CNES_CosENU_geo_8rlks.tiff\".format(datadir, foldername),\n",
    "                    nOpenFlags=gdal.GA_ReadOnly)\n",
    "\n",
    "insar_asc_LOS = np.zeros((ny, nx, 3))\n",
    "insar_asc_LOS[:, :, 0] = data_.GetRasterBand(1).ReadAsArray(0, 0, nx, ny)\n",
    "insar_asc_LOS[:, :, 1] = data_.GetRasterBand(2).ReadAsArray(0, 0, nx, ny)\n",
    "insar_asc_LOS[:, :, 2] = data_.GetRasterBand(3).ReadAsArray(0, 0, nx, ny)\n",
    "insar_asc_LOS_mean = np.mean(insar_asc_LOS, axis=(0, 1))\n",
    "\n",
    "del data_"
   ]
  },
  {
   "cell_type": "code",
   "execution_count": 10,
   "metadata": {},
   "outputs": [],
   "source": [
    "# Nb interferograms, misclosure, temporal coherence\n",
    "\n",
    "data_ = gdal.OpenEx(\"{:}/InSAR_FLATSIM/{:}/CNES_Net_geo_8rlks.tiff\".format(datadir, foldername),\n",
    "                    nOpenFlags=gdal.GA_ReadOnly)\n",
    "\n",
    "insar_asc_nbinterf = data_.GetRasterBand(2).ReadAsArray(0, 0, nx, ny)\n",
    "insar_asc_misclosure = data_.GetRasterBand(1).ReadAsArray(0, 0, nx, ny)\n",
    "insar_asc_coherence = data_.GetRasterBand(4).ReadAsArray(0, 0, nx, ny) / 16\n",
    "\n",
    "del data_"
   ]
  },
  {
   "cell_type": "markdown",
   "metadata": {},
   "source": [
    "*Descending track*"
   ]
  },
  {
   "cell_type": "code",
   "execution_count": 11,
   "metadata": {},
   "outputs": [],
   "source": [
    "foldername = 'NSBAS_TS-PKG_S1_LEVANT-D021SUD-VV-2014-2021_IW123_2014-10-31_2021-04-27'"
   ]
  },
  {
   "cell_type": "code",
   "execution_count": 12,
   "metadata": {},
   "outputs": [],
   "source": [
    "# Mean LOS velocity\n",
    "\n",
    "data_ = gdal.OpenEx(\"{:}/InSAR_FLATSIM/{:}/CNES_MV-LOS_geo_8rlks.tiff\".format(datadir, foldername), \n",
    "                    nOpenFlags=gdal.GA_ReadOnly)\n",
    "\n",
    "ny = data_.RasterYSize\n",
    "nx = data_.RasterXSize\n",
    "nband = data_.RasterCount\n",
    "no_data_value = data_.GetRasterBand(1).GetNoDataValue()\n",
    "\n",
    "insar_desc_vel = data_.GetRasterBand(1).ReadAsArray(0, 0, nx, ny) * rad2cm\n",
    "insar_desc_mask_nodata = insar_desc_vel == no_data_value"
   ]
  },
  {
   "cell_type": "code",
   "execution_count": 13,
   "metadata": {},
   "outputs": [],
   "source": [
    "# Lon / lat coordinates (EPSG:4326)\n",
    "\n",
    "xoff, a, b, yoff, d, e = data_.GetGeoTransform()\n",
    "old_cs = osr.SpatialReference()\n",
    "old_cs.ImportFromWkt(data_.GetProjectionRef())\n",
    "new_cs = osr.SpatialReference()\n",
    "new_cs.ImportFromEPSG(4326)\n",
    "transform = osr.CoordinateTransformation(old_cs, new_cs)\n",
    "\n",
    "x_ = np.arange(nx)\n",
    "y_ = np.arange(ny)\n",
    "X, Y = np.meshgrid(x_, y_)\n",
    "\n",
    "x = a*X + b*Y + xoff\n",
    "y = d*X + e*Y + yoff\n",
    "\n",
    "insar_desc_lon = np.zeros_like(insar_desc_vel)\n",
    "insar_desc_lat = np.zeros_like(insar_desc_vel)\n",
    "\n",
    "for i in range(ny):\n",
    "    for j in range(nx):\n",
    "        lon_, lat_, _ = transform.TransformPoint(x[i, j], y[i, j])\n",
    "        \n",
    "        insar_desc_lon[i, j] = lon_\n",
    "        insar_desc_lat[i, j] = lat_"
   ]
  },
  {
   "cell_type": "code",
   "execution_count": 14,
   "metadata": {},
   "outputs": [],
   "source": [
    "# X / Y coordinates UTM (EPSG:32636)\n",
    "\n",
    "xoff, a, b, yoff, d, e = data_.GetGeoTransform()\n",
    "old_cs = osr.SpatialReference()\n",
    "old_cs.ImportFromWkt(data_.GetProjectionRef())\n",
    "new_cs = osr.SpatialReference()\n",
    "new_cs.ImportFromEPSG(32636)\n",
    "transform = osr.CoordinateTransformation(old_cs, new_cs)\n",
    "\n",
    "x_ = np.arange(nx)\n",
    "y_ = np.arange(ny)\n",
    "X, Y = np.meshgrid(x_, y_)\n",
    "\n",
    "x = a*X + b*Y + xoff\n",
    "y = d*X + e*Y + yoff\n",
    "\n",
    "insar_desc_x = np.zeros_like(insar_desc_vel)\n",
    "insar_desc_y = np.zeros_like(insar_desc_vel)\n",
    "\n",
    "for i in range(ny):\n",
    "    for j in range(nx):\n",
    "        x__, y__, __ = transform.TransformPoint(y[i, j], x[i, j])\n",
    "        \n",
    "        insar_desc_x[i, j] = x__\n",
    "        insar_desc_y[i, j] = y__\n",
    "\n",
    "del data_"
   ]
  },
  {
   "cell_type": "code",
   "execution_count": 15,
   "metadata": {},
   "outputs": [],
   "source": [
    "# LOS\n",
    "\n",
    "data_ = gdal.OpenEx(\"{:}/InSAR_FLATSIM/{:}/CNES_CosENU_geo_8rlks.tiff\".format(datadir, foldername),\n",
    "                    nOpenFlags=gdal.GA_ReadOnly)\n",
    "\n",
    "insar_desc_LOS = np.zeros((ny, nx, 3))\n",
    "insar_desc_LOS[:, :, 0] = data_.GetRasterBand(1).ReadAsArray(0, 0, nx, ny)\n",
    "insar_desc_LOS[:, :, 1] = data_.GetRasterBand(2).ReadAsArray(0, 0, nx, ny)\n",
    "insar_desc_LOS[:, :, 2] = data_.GetRasterBand(3).ReadAsArray(0, 0, nx, ny)\n",
    "insar_desc_LOS_mean = np.mean(insar_desc_LOS, axis=(0, 1))\n",
    "\n",
    "del data_"
   ]
  },
  {
   "cell_type": "code",
   "execution_count": 16,
   "metadata": {},
   "outputs": [],
   "source": [
    "# Nb interferograms, misclosure, temporal coherence\n",
    "\n",
    "data_ = gdal.OpenEx(\"{:}/InSAR_FLATSIM/{:}/CNES_Net_geo_8rlks.tiff\".format(datadir, foldername),\n",
    "                    nOpenFlags=gdal.GA_ReadOnly)\n",
    "\n",
    "insar_desc_nbinterf = data_.GetRasterBand(2).ReadAsArray(0, 0, nx, ny)\n",
    "insar_desc_misclosure = data_.GetRasterBand(1).ReadAsArray(0, 0, nx, ny)\n",
    "insar_desc_coherence = data_.GetRasterBand(4).ReadAsArray(0, 0, nx, ny) / 16\n",
    "\n",
    "del data_"
   ]
  },
  {
   "cell_type": "markdown",
   "metadata": {},
   "source": [
    "## Draft: correct plate motion model"
   ]
  },
  {
   "cell_type": "code",
   "execution_count": null,
   "metadata": {},
   "outputs": [],
   "source": [
    "############################################################\n",
    "# Program is part of MintPy                                #\n",
    "# Copyright (c) 2013, Zhang Yunjun, Heresh Fattahi         #\n",
    "# Author: Yuan-Kai Liu, Zhang Yunjun, May 2022             #\n",
    "############################################################\n",
    "\n",
    "# Earth radius\n",
    "# equatorial radius: a = 6378.1370e3\n",
    "# polar      radius: b = 6356.7523e3\n",
    "# arithmetic mean radius: R_1 = (2 * a + b) / 3 = 6371.0088e3\n",
    "#   defined by IUGG and used in geophysics\n",
    "EARTH_RADIUS = 6371.0088e3   # the arithmetic mean radius in meters\n",
    "\n",
    "MAS2RAD = np.pi / 3600000 / 180    # 1 mas (milli arc second) = x radian\n",
    "MASY2DMY = 1e6 / 3600000           # 1 mas per year = x degree per million year\n",
    "\n",
    "\n",
    "def cart2sph(rx, ry, rz):\n",
    "    \"\"\"Convert cartesian coordinates to spherical.\n",
    "\n",
    "    Parameters: rx/y/z  - float / np.ndarray, angular distance in X/Y/Z direction [any units of distance]\n",
    "    Returns:    lat/lon - float / np.ndarray, latitude / longitude  [degree]\n",
    "                r       - float / np.ndarray, radius [same unit as rx/y/z]\n",
    "    Examples:\n",
    "        # convert xyz coord to spherical coord\n",
    "        lat, lon, r = cart2sph(x, y, z)\n",
    "        # convert Euler vector (in cartesian) to Euler pole (in spherical)\n",
    "        pole_lat, pole_lon, rot_rate = cart2sph(wx, wy, wz)\n",
    "    \"\"\"\n",
    "    r = np.sqrt(rx**2 + ry**2 + rz**2)\n",
    "    lat = np.rad2deg(np.arcsin(rz / r))\n",
    "    lon = np.rad2deg(np.arctan2(ry, rx))\n",
    "    return lat, lon, r\n",
    "\n",
    "\n",
    "def sph2cart(lat, lon, r=1):\n",
    "    \"\"\"Convert spherical coordinates to cartesian.\n",
    "\n",
    "    Parameters: lat/lon - float / np.ndarray, latitude / longitude [degree]\n",
    "                r       - float / np.ndarray, radius [any units of angular distance]\n",
    "    Returns:    rx/y/z  - float / np.ndarray, angular distance in X/Y/Z direction [same unit as r]\n",
    "    Examples:\n",
    "        # convert spherical coord to xyz coord\n",
    "        x, y, z = sph2cart(lat, lon, r=radius)\n",
    "        # convert Euler pole (in spherical) to Euler vector (in cartesian)\n",
    "        wx, wy, wz = sph2cart(pole_lat, pole_lon, r=rot_rate)\n",
    "    \"\"\"\n",
    "    rx = r * np.cos(np.deg2rad(lat)) * np.cos(np.deg2rad(lon))\n",
    "    ry = r * np.cos(np.deg2rad(lat)) * np.sin(np.deg2rad(lon))\n",
    "    rz = r * np.sin(np.deg2rad(lat))\n",
    "    return rx, ry, rz\n",
    "\n",
    "\n",
    "def transform_xyz_enu(lat, lon, x=None, y=None, z=None, e=None, n=None, u=None):\n",
    "    \"\"\"Transform between ECEF (global xyz) and ENU at given locations (lat, lon) via matrix rotation.\n",
    "\n",
    "    Reference:\n",
    "        Navipedia, https://gssc.esa.int/navipedia/index.php/Transformations_between_ECEF_and_ENU_coordinates\n",
    "        Cox, A., and Hart, R.B. (1986) Plate tectonics: How it works. Blackwell Scientific Publications,\n",
    "          Palo Alto, doi: 10.4236/ojapps.2015.54016. Page 145-156\n",
    "\n",
    "    Parameters: lat/lon - float / np.ndarray, latitude/longitude      at location(s) [degree]\n",
    "                x/y/z   - float / np.ndarray, x/y/z         component at location(s) [e.g., length, velocity]\n",
    "                e/n/u   - float / np.ndarray, east/north/up component at location(s) [e.g., length, velocity]\n",
    "    Returns:    e/n/u if given x/y/z\n",
    "                x/y/z if given e/n/u\n",
    "    \"\"\"\n",
    "    # convert the unit from degree to radian\n",
    "    lat = np.deg2rad(lat)\n",
    "    lon = np.deg2rad(lon)\n",
    "\n",
    "    # transformation via matrix rotation:\n",
    "    #     V_enu = T * V_xyz\n",
    "    #     V_xyz = T^-1 * V_enu\n",
    "    #\n",
    "    # Equilevant 3D matrix code is as below:\n",
    "    #     V_enu = np.diagonal(\n",
    "    #         np.matmul(\n",
    "    #             T.reshape([-1,3]),\n",
    "    #             V_xyz.T,\n",
    "    #         ).reshape([3, npts, npts], order='F'),\n",
    "    #         axis1=1,\n",
    "    #         axis2=2,\n",
    "    #     ).T\n",
    "    # To avoid this complex matrix operation above, we calculate for each element as below:\n",
    "\n",
    "    if all(i is not None for i in [x, y, z]):\n",
    "        # cart2enu\n",
    "        e = - np.sin(lon) * x \\\n",
    "            + np.cos(lon) * y\n",
    "        n = - np.sin(lat) * np.cos(lon) * x \\\n",
    "            - np.sin(lat) * np.sin(lon) * y \\\n",
    "            + np.cos(lat) * z\n",
    "        u =   np.cos(lat) * np.cos(lon) * x \\\n",
    "            + np.cos(lat) * np.sin(lon) * y \\\n",
    "            + np.sin(lat) * z\n",
    "        return e, n, u\n",
    "\n",
    "    elif all(i is not None for i in [e, n, u]):\n",
    "        # enu2cart\n",
    "        x = - np.sin(lon) * e \\\n",
    "            - np.cos(lon) * np.sin(lat) * n \\\n",
    "            + np.cos(lon) * np.cos(lat) * u\n",
    "        y =   np.cos(lon) * e \\\n",
    "            - np.sin(lon) * np.sin(lat) * n \\\n",
    "            + np.sin(lon) * np.cos(lat) * u\n",
    "        z =   np.cos(lat) * n \\\n",
    "            + np.sin(lat) * u\n",
    "        return x, y, z\n",
    "\n",
    "    else:\n",
    "        raise ValueError('Input (x,y,z) or (e,n,u) is NOT complete!')\n",
    "\n",
    "\n",
    "def coord_llh2xyz(lat, lon, alt):\n",
    "    \"\"\"Convert coordinates from WGS84 lat/long/hgt to ECEF x/y/z.\n",
    "\n",
    "    Parameters: lat   - float / list(float) / np.ndarray, latitude  [degree]\n",
    "                lon   - float / list(float) / np.ndarray, longitude [degree]\n",
    "                alt   - float / list(float) / np.ndarray, altitude  [meter]\n",
    "    Returns:    x/y/z - float / list(float) / np.ndarray, ECEF coordinate [meter]\n",
    "    \"\"\"\n",
    "    # ensure same type between alt and lat/lon\n",
    "    if isinstance(lat, np.ndarray) and not isinstance(alt, np.ndarray):\n",
    "        alt *= np.ones_like(lat)\n",
    "    elif isinstance(lat, list) and not isinstance(alt, list):\n",
    "        alt = [alt] * len(lat)\n",
    "\n",
    "    # construct pyproj transform object\n",
    "    transformer = pyproj.Transformer.from_crs(\n",
    "        {\"proj\":'latlong', \"ellps\":'WGS84', \"datum\":'WGS84'},\n",
    "        {\"proj\":'geocent', \"ellps\":'WGS84', \"datum\":'WGS84'},\n",
    "    )\n",
    "\n",
    "    # apply coordinate transformation\n",
    "    x, y, z = transformer.transform(lon, lat, alt, radians=False)\n",
    "\n",
    "    return x, y, z\n",
    "\n",
    "\n",
    "def euler_pole_get_velocity_xyz(wx, wy, wz, lat, lon, alt=0.0, ellps=True):\n",
    "    \"\"\"Compute cartesian velocity (vx, vy, vz) of the Euler Pole at point(s) of interest.\n",
    "\n",
    "    Parameters: wx/xy/wz - floats, Euler rotation vector ocomponent (mas/yr)    \n",
    "                lat   - float / 1D/2D np.ndarray, points of interest (latitude)  [degree]\n",
    "                lon   - float / 1D/2D np.ndarray, points of interest (longitude) [degree]\n",
    "                alt   - float / 1D/2D np.ndarray, points of interest (altitude)      [meter]\n",
    "                ellps - bool, consider ellipsoidal Earth projection\n",
    "    Returns:    vx    - float / 1D/2D np.ndarray, ECEF x linear velocity [meter/year]\n",
    "                vy    - float / 1D/2D np.ndarray, ECEF y linear velocity [meter/year]\n",
    "                vz    - float / 1D/2D np.ndarray, ECEF z linear velocity [meter/year]\n",
    "    \"\"\"\n",
    "    # check input lat/lon data type (scalar / array) and shape\n",
    "    poi_shape = lat.shape if isinstance(lat, np.ndarray) else None\n",
    "\n",
    "    # convert lat/lon into x/y/z\n",
    "    # Note: the conversion assumes either a spherical or spheroidal Earth, tests show that\n",
    "    # using a ellipsoid as defined in WGS84 produce results closer to the UNAVCO website\n",
    "    # calculator, which also uses the WGS84 ellipsoid.\n",
    "    if ellps:\n",
    "        x, y, z = coord_llh2xyz(lat, lon, alt)\n",
    "    else:\n",
    "        x, y, z = sph2cart(lat, lon, alt+EARTH_RADIUS)\n",
    "\n",
    "    # ensure matrix is flattened\n",
    "    if poi_shape is not None:\n",
    "        x = x.flatten()\n",
    "        y = y.flatten()\n",
    "        z = z.flatten()\n",
    "\n",
    "    # compute the cartesian linear velocity (i.e., ECEF) in meter/year as:\n",
    "    #\n",
    "    #     V_xyz = Omega x R_i\n",
    "    #\n",
    "    # where R_i is location vector at point i\n",
    "\n",
    "    xyz = np.array([x, y, z], dtype=np.float32)\n",
    "    omega = np.array([wx, wy, wz]) * MAS2RAD\n",
    "    vx, vy, vz = np.cross(omega, xyz.T).T.reshape(xyz.shape)\n",
    "\n",
    "    # reshape to the original shape of lat/lon\n",
    "    if poi_shape is not None:\n",
    "        vx = vx.reshape(poi_shape)\n",
    "        vy = vy.reshape(poi_shape)\n",
    "        vz = vz.reshape(poi_shape)\n",
    "\n",
    "    return vx, vy, vz\n",
    "\n",
    "\n",
    "def euler_pole_get_velocity_enu(wx, wy, wz, lat, lon, alt=0.0, ellps=True):\n",
    "        \"\"\"Compute the spherical velocity (ve, vn, vu) of the Euler Pole at point(s) of interest.\n",
    "\n",
    "        Parameters: wx/xy/wz - floats, Euler rotation vector ocomponent (mas/yr)    \n",
    "                    lat   - float / 1D/2D np.ndarray, points of interest (latitude)  [degree]\n",
    "                    lon   - float / 1D/2D np.ndarray, points of interest (longitude) [degree]\n",
    "                    alt   - float / 1D/2D np.ndarray, points of interest (altitude) [meter]\n",
    "                    ellps - bool, consider ellipsoidal Earth projection\n",
    "        Returns:    ve    - float / 1D/2D np.ndarray, east  linear velocity [meter/year]\n",
    "                    vn    - float / 1D/2D np.ndarray, north linear velocity [meter/year]\n",
    "                    vu    - float / 1D/2D np.ndarray, up    linear velocity [meter/year]\n",
    "        \"\"\"\n",
    "        # calculate ECEF velocity\n",
    "        vx, vy, vz = euler_pole_get_velocity_xyz(wx, wy, wz, lat, lon, alt=alt, ellps=ellps)\n",
    "\n",
    "        # convert ECEF to ENU velocity via matrix rotation: V_enu = T * V_xyz\n",
    "        ve, vn, vu = transform_xyz_enu(lat, lon, x=vx, y=vy, z=vz)\n",
    "\n",
    "        # enforce zero vertical velocitpy when ellps=False\n",
    "        # to avoid artifacts due to numerical precision\n",
    "        if not ellps:\n",
    "            if isinstance(lat, np.ndarray):\n",
    "                vu[:] = 0\n",
    "            else:\n",
    "                vu = 0\n",
    "\n",
    "        return ve, vn, vu"
   ]
  },
  {
   "cell_type": "code",
   "execution_count": null,
   "metadata": {},
   "outputs": [],
   "source": [
    "ITRF2014_PMM = {'ARAB': [1.154, -0.136, 1.444, 0.515], # omega_x (mas/yr) omega_y (mas/yr) omega_z (mas/yr) omega (deg/Ma)\n",
    "                'NUBI': [0.099, -0.614, 0.733, 0.267]}\n",
    "\n",
    "wx, wy, wz = ITRF2014_PMM['ARAB'][:3]"
   ]
  },
  {
   "cell_type": "code",
   "execution_count": null,
   "metadata": {},
   "outputs": [],
   "source": [
    "pmm_asc = euler_pole_get_velocity_enu(wx=wx, wy=wy, wz=wz,\n",
    "                                      lat=insar_asc_lat, lon=insar_asc_lon)\n",
    "pmm_asc = np.stack(pmm_asc, axis=-1)\n",
    "\n",
    "insar_pmm_asc = - np.sum(pmm_asc * insar_asc_LOS, axis=2)\n",
    "insar_asc_vel_pmm = 1e3 * insar_pmm_asc\n",
    "insar_asc_vel_pmm[insar_asc_mask_nodata] = np.nan"
   ]
  },
  {
   "cell_type": "markdown",
   "metadata": {},
   "source": [
    "## Export InSAR velocities"
   ]
  },
  {
   "cell_type": "markdown",
   "metadata": {},
   "source": [
    "*Ascending track*"
   ]
  },
  {
   "cell_type": "code",
   "execution_count": 17,
   "metadata": {},
   "outputs": [],
   "source": [
    "np.save(\"{:}/InSAR_FLATSIM/numpy_format/insar_asc_vel.npy\".format(datadir), insar_asc_vel)\n",
    "np.save(\"{:}/InSAR_FLATSIM/numpy_format/insar_asc_mask_nodata.npy\".format(datadir), insar_asc_mask_nodata)\n",
    "np.save(\"{:}/InSAR_FLATSIM/numpy_format/insar_asc_LOS.npy\".format(datadir), insar_asc_LOS)\n",
    "\n",
    "np.save(\"{:}/InSAR_FLATSIM/numpy_format/insar_asc_misclosure.npy\".format(datadir), insar_asc_misclosure)\n",
    "np.save(\"{:}/InSAR_FLATSIM/numpy_format/insar_asc_nbinterf.npy\".format(datadir), insar_asc_nbinterf)\n",
    "np.save(\"{:}/InSAR_FLATSIM/numpy_format/insar_asc_coherence.npy\".format(datadir), insar_asc_coherence)\n",
    "\n",
    "np.save(\"{:}/InSAR_FLATSIM/numpy_format/insar_asc_lat.npy\".format(datadir), insar_asc_lat)\n",
    "np.save(\"{:}/InSAR_FLATSIM/numpy_format/insar_asc_lon.npy\".format(datadir), insar_asc_lon)\n",
    "\n",
    "np.save(\"{:}/InSAR_FLATSIM/numpy_format/insar_asc_x_utm.npy\".format(datadir), insar_asc_x)\n",
    "np.save(\"{:}/InSAR_FLATSIM/numpy_format/insar_asc_y_utm.npy\".format(datadir), insar_asc_y)"
   ]
  },
  {
   "cell_type": "markdown",
   "metadata": {},
   "source": [
    "*Descending track*"
   ]
  },
  {
   "cell_type": "code",
   "execution_count": 18,
   "metadata": {},
   "outputs": [],
   "source": [
    "np.save(\"{:}/InSAR_FLATSIM/numpy_format/insar_desc_vel.npy\".format(datadir), insar_desc_vel)\n",
    "np.save(\"{:}/InSAR_FLATSIM/numpy_format/insar_desc_mask_nodata.npy\".format(datadir), insar_desc_mask_nodata)\n",
    "np.save(\"{:}/InSAR_FLATSIM/numpy_format/insar_desc_LOS.npy\".format(datadir), insar_desc_LOS)\n",
    "\n",
    "np.save(\"{:}/InSAR_FLATSIM/numpy_format/insar_desc_misclosure.npy\".format(datadir), insar_desc_misclosure)\n",
    "np.save(\"{:}/InSAR_FLATSIM/numpy_format/insar_desc_nbinterf.npy\".format(datadir), insar_desc_nbinterf)\n",
    "np.save(\"{:}/InSAR_FLATSIM/numpy_format/insar_desc_coherence.npy\".format(datadir), insar_desc_coherence)\n",
    "\n",
    "np.save(\"{:}/InSAR_FLATSIM/numpy_format/insar_desc_lat.npy\".format(datadir), insar_desc_lat)\n",
    "np.save(\"{:}/InSAR_FLATSIM/numpy_format/insar_desc_lon.npy\".format(datadir), insar_desc_lon)\n",
    "\n",
    "np.save(\"{:}/InSAR_FLATSIM/numpy_format/insar_desc_x_utm.npy\".format(datadir), insar_desc_x)\n",
    "np.save(\"{:}/InSAR_FLATSIM/numpy_format/insar_desc_y_utm.npy\".format(datadir), insar_desc_y)"
   ]
  },
  {
   "cell_type": "markdown",
   "metadata": {},
   "source": [
    "## Load InSAR pixel time series"
   ]
  },
  {
   "cell_type": "markdown",
   "metadata": {},
   "source": [
    "*Ascending track*"
   ]
  },
  {
   "cell_type": "code",
   "execution_count": 35,
   "metadata": {},
   "outputs": [],
   "source": [
    "foldername = 'NSBAS_TS-PKG_S1_LEVANT-A087-VV-2015-2021_IW123_2015-03-04_2021-04-25'"
   ]
  },
  {
   "cell_type": "code",
   "execution_count": 37,
   "metadata": {},
   "outputs": [],
   "source": [
    "data_ = gdal.OpenEx(\"{:}/InSAR_FLATSIM/{:}/CNES_cube_geo_8rlks.tiff\".format(datadir, foldername), \n",
    "                    nOpenFlags=gdal.GA_ReadOnly)\n",
    "\n",
    "ny = data_.RasterYSize\n",
    "nx = data_.RasterXSize\n",
    "nband = data_.RasterCount\n",
    "\n",
    "insar_asc_time = [datetime.datetime.strptime(data_.GetRasterBand(k).GetDescription()[14:], \"%Y%m%d\")\n",
    "                  for k in range(1, nband+1)]"
   ]
  },
  {
   "cell_type": "code",
   "execution_count": 73,
   "metadata": {},
   "outputs": [],
   "source": [
    "lonpix = 35.3\n",
    "latpix = 31.6\n",
    "dpix = 5\n",
    "\n",
    "ipix = np.argmin(np.abs(insar_asc_lon[0, :] - lonpix))\n",
    "jpix = np.argmin(np.abs(insar_asc_lat[:, 0] - latpix))"
   ]
  },
  {
   "cell_type": "code",
   "execution_count": 74,
   "metadata": {},
   "outputs": [],
   "source": [
    "disp = np.array([])\n",
    "\n",
    "for k in range(1, nband+1):\n",
    "    disp = np.concatenate((disp, [np.nanmean(data_.GetRasterBand(k).ReadAsArray(jpix-(dpix-1)/2, ipix-(dpix-1)/2,\n",
    "                                                                                dpix, dpix))]))\n",
    "    \n",
    "disp *= rad2cm"
   ]
  },
  {
   "cell_type": "code",
   "execution_count": 24,
   "metadata": {},
   "outputs": [],
   "source": [
    "del data_"
   ]
  },
  {
   "cell_type": "markdown",
   "metadata": {},
   "source": [
    "*Descending track*"
   ]
  },
  {
   "cell_type": "code",
   "execution_count": 25,
   "metadata": {},
   "outputs": [],
   "source": [
    "foldername = 'NSBAS_TS-PKG_S1_LEVANT-D021SUD-VV-2014-2021_IW123_2014-10-31_2021-04-27'"
   ]
  },
  {
   "cell_type": "code",
   "execution_count": 26,
   "metadata": {},
   "outputs": [],
   "source": [
    "data_ = gdal.OpenEx(\"{:}/InSAR_FLATSIM/{:}/CNES_cube_geo_8rlks.tiff\".format(datadir, foldername), \n",
    "                    nOpenFlags=gdal.GA_ReadOnly)\n",
    "\n",
    "ny = data_.RasterYSize\n",
    "nx = data_.RasterXSize\n",
    "nband = data_.RasterCount"
   ]
  },
  {
   "cell_type": "code",
   "execution_count": 27,
   "metadata": {},
   "outputs": [],
   "source": [
    "del data_"
   ]
  },
  {
   "cell_type": "markdown",
   "metadata": {},
   "source": [
    "## Export InSAR pixel time series"
   ]
  },
  {
   "cell_type": "markdown",
   "metadata": {},
   "source": [
    "*Ascending track*"
   ]
  },
  {
   "cell_type": "code",
   "execution_count": null,
   "metadata": {},
   "outputs": [],
   "source": []
  },
  {
   "cell_type": "markdown",
   "metadata": {},
   "source": [
    "*Descending track*"
   ]
  },
  {
   "cell_type": "code",
   "execution_count": null,
   "metadata": {},
   "outputs": [],
   "source": []
  }
 ],
 "metadata": {
  "kernelspec": {
   "display_name": "pygdal",
   "language": "python",
   "name": "python3"
  },
  "language_info": {
   "codemirror_mode": {
    "name": "ipython",
    "version": 3
   },
   "file_extension": ".py",
   "mimetype": "text/x-python",
   "name": "python",
   "nbconvert_exporter": "python",
   "pygments_lexer": "ipython3",
   "version": "3.11.6"
  },
  "orig_nbformat": 4
 },
 "nbformat": 4,
 "nbformat_minor": 2
}
