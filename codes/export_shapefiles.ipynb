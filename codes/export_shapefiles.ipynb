{
 "cells": [
  {
   "cell_type": "markdown",
   "metadata": {},
   "source": [
    "# Export hydrological shapefiles"
   ]
  },
  {
   "cell_type": "markdown",
   "metadata": {},
   "source": [
    "## Tools"
   ]
  },
  {
   "cell_type": "markdown",
   "metadata": {},
   "source": [
    "*Modules*"
   ]
  },
  {
   "cell_type": "code",
   "execution_count": 1,
   "metadata": {},
   "outputs": [],
   "source": [
    "import geopandas as gpd"
   ]
  },
  {
   "cell_type": "markdown",
   "metadata": {},
   "source": [
    "*Path*"
   ]
  },
  {
   "cell_type": "code",
   "execution_count": 2,
   "metadata": {},
   "outputs": [],
   "source": [
    "# paths\n",
    "wkdir = \"/Users/emile/Documents/Etude/2024_2025_M2/tutored_project\"\n",
    "datadir = \"{:}/data\".format(wkdir)\n",
    "plotdir = \"{:}/figures\".format(wkdir)"
   ]
  },
  {
   "cell_type": "markdown",
   "metadata": {},
   "source": [
    "## Crop Dead Sea region"
   ]
  },
  {
   "cell_type": "markdown",
   "metadata": {},
   "source": [
    "*HydroLAKES database*"
   ]
  },
  {
   "cell_type": "code",
   "execution_count": 3,
   "metadata": {},
   "outputs": [],
   "source": [
    "lakes = gpd.read_file(\"{:}/HydroLAKES/HydroLAKES_polys_v10.shp\".format(datadir))\n",
    "lakes = lakes[((lakes.Pour_long >= 30) & (lakes.Pour_long <= 40)) & (lakes.Pour_lat >= 20) & (lakes.Pour_lat <= 40)]\n",
    "lakes.reset_index(drop=True, inplace=True)"
   ]
  },
  {
   "cell_type": "code",
   "execution_count": 4,
   "metadata": {},
   "outputs": [],
   "source": [
    "lakes.to_file(\"{:}/Dead_Sea_shapefile/lakes.shp\".format(datadir), driver='ESRI Shapefile')"
   ]
  },
  {
   "cell_type": "markdown",
   "metadata": {},
   "source": [
    "*HydroRIVERS database*"
   ]
  },
  {
   "cell_type": "code",
   "execution_count": 5,
   "metadata": {},
   "outputs": [
    {
     "name": "stderr",
     "output_type": "stream",
     "text": [
      "/var/folders/58/4tzv12sd173350mg97rbrhwc0000gn/T/ipykernel_65958/3721269034.py:2: UserWarning: Geometry is in a geographic CRS. Results from 'centroid' are likely incorrect. Use 'GeoSeries.to_crs()' to re-project geometries to a projected CRS before this operation.\n",
      "\n",
      "  rivers = rivers[((rivers.geometry.centroid.x >= 33) & (rivers.geometry.centroid.x <= 40)) & (rivers.geometry.centroid.y >= 25) & (rivers.geometry.centroid.y <= 37)]\n"
     ]
    }
   ],
   "source": [
    "rivers = gpd.read_file(\"{:}/HydroRIVERS/HydroRIVERS_v10_eu.shp\".format(datadir))\n",
    "rivers = rivers[((rivers.geometry.centroid.x >= 33) & (rivers.geometry.centroid.x <= 40)) & (rivers.geometry.centroid.y >= 25) & (rivers.geometry.centroid.y <= 37)]\n",
    "rivers.reset_index(drop=True, inplace=True)"
   ]
  },
  {
   "cell_type": "code",
   "execution_count": 6,
   "metadata": {},
   "outputs": [],
   "source": [
    "rivers.to_file(\"{:}/Dead_Sea_shapefile/rivers.shp\".format(datadir), driver='ESRI Shapefile')"
   ]
  },
  {
   "cell_type": "markdown",
   "metadata": {},
   "source": [
    "*Extract northern basin Dead Sea*"
   ]
  },
  {
   "cell_type": "code",
   "execution_count": 11,
   "metadata": {},
   "outputs": [],
   "source": [
    "dead_sea = lakes[lakes.Lake_name == 'Dead Sea']\n",
    "dead_sea.reset_index(drop=True, inplace=True)"
   ]
  },
  {
   "cell_type": "code",
   "execution_count": 12,
   "metadata": {},
   "outputs": [],
   "source": [
    "dead_sea.to_file(\"{:}/Dead_Sea_shapefile/dead_sea.shp\".format(datadir), driver='ESRI Shapefile')"
   ]
  }
 ],
 "metadata": {
  "kernelspec": {
   "display_name": "pygdal",
   "language": "python",
   "name": "python3"
  },
  "language_info": {
   "codemirror_mode": {
    "name": "ipython",
    "version": 3
   },
   "file_extension": ".py",
   "mimetype": "text/x-python",
   "name": "python",
   "nbconvert_exporter": "python",
   "pygments_lexer": "ipython3",
   "version": "3.11.6"
  },
  "orig_nbformat": 4
 },
 "nbformat": 4,
 "nbformat_minor": 2
}
