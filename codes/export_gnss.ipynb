{
 "cells": [
  {
   "cell_type": "markdown",
   "metadata": {},
   "source": [
    "# Download GNSS data"
   ]
  },
  {
   "cell_type": "markdown",
   "metadata": {},
   "source": [
    "## Tools"
   ]
  },
  {
   "cell_type": "markdown",
   "metadata": {},
   "source": [
    "*Modules*"
   ]
  },
  {
   "cell_type": "code",
   "execution_count": 1,
   "metadata": {},
   "outputs": [],
   "source": [
    "import numpy as np\n",
    "import pandas as pd\n",
    "import requests\n",
    "\n",
    "import matplotlib.pyplot as plt\n",
    "import matplotlib.colors as mcolors\n",
    "import matplotlib.patches as mpatches\n",
    "import matplotlib.cm as cmx\n",
    "import matplotlib.ticker as ti\n",
    "from matplotlib import patheffects\n",
    "from mpl_toolkits.axes_grid1.inset_locator import inset_axes\n",
    "from mpl_toolkits.axes_grid1 import make_axes_locatable\n",
    "import cmcrameri.cm as cmc\n",
    "\n",
    "import cartopy.crs as ccrs\n",
    "import cartopy.feature as cf\n",
    "import pygmt\n",
    "from pyproj import Transformer\n",
    "from pygmt.datasets import load_earth_relief\n",
    "from fontTools.ttLib import TTFont\n",
    "from matplotlib.font_manager import fontManager, FontProperties\n",
    "\n",
    "from adjustText import adjust_text"
   ]
  },
  {
   "cell_type": "code",
   "execution_count": 2,
   "metadata": {},
   "outputs": [],
   "source": [
    "plt.style.use('myfig.mplstyle')"
   ]
  },
  {
   "cell_type": "markdown",
   "metadata": {},
   "source": [
    "*Paths*"
   ]
  },
  {
   "cell_type": "code",
   "execution_count": 3,
   "metadata": {},
   "outputs": [],
   "source": [
    "# paths\n",
    "wkdir = \"/Users/emile/Documents/Etude/2024_2025_M2/tutored_project\"\n",
    "datadir = \"{:}/data\".format(wkdir)\n",
    "plotdir = \"{:}/figures\".format(wkdir)"
   ]
  },
  {
   "cell_type": "markdown",
   "metadata": {},
   "source": [
    "*Import list stations NGL*"
   ]
  },
  {
   "cell_type": "code",
   "execution_count": 4,
   "metadata": {},
   "outputs": [],
   "source": [
    "gnss_stations = pd.read_csv(\"{:}/GNSS/list_stations_NGL.txt\".format(datadir),\n",
    "                            sep=' ', skipinitialspace=True, names=['code', 'lat', 'lon', 'height'], usecols=[0, 1, 2, 3])\n",
    "gnss_stations.loc[gnss_stations.lon <= -180, 'lon'] += 360"
   ]
  },
  {
   "cell_type": "markdown",
   "metadata": {},
   "source": [
    "*Projections*"
   ]
  },
  {
   "cell_type": "code",
   "execution_count": 5,
   "metadata": {},
   "outputs": [],
   "source": [
    "crs_geo = 'EPSG:4326'\n",
    "crs_utm = 'EPSG:32636'"
   ]
  },
  {
   "cell_type": "markdown",
   "metadata": {},
   "source": [
    "## Select stations"
   ]
  },
  {
   "cell_type": "code",
   "execution_count": 6,
   "metadata": {},
   "outputs": [],
   "source": [
    "lonmin, lonmax = 34.5, 36.5\n",
    "latmin, latmax = 30, 32.5"
   ]
  },
  {
   "cell_type": "code",
   "execution_count": 7,
   "metadata": {},
   "outputs": [],
   "source": [
    "gnss_stations_red = gnss_stations[((gnss_stations.lat >= latmin) & (gnss_stations.lat <= latmax)) & ((gnss_stations.lon >= lonmin) & (gnss_stations.lon <= lonmax))]\n",
    "gnss_stations_red.reset_index(drop=True, inplace=True)"
   ]
  },
  {
   "cell_type": "code",
   "execution_count": 8,
   "metadata": {},
   "outputs": [],
   "source": [
    "transformer = Transformer.from_crs(crs_geo, crs_utm)\n",
    "coords_utm = transformer.transform(gnss_stations_red.lat, gnss_stations_red.lon)\n",
    "x_utm = coords_utm[0]\n",
    "y_utm = coords_utm[1]"
   ]
  },
  {
   "cell_type": "code",
   "execution_count": 9,
   "metadata": {},
   "outputs": [
    {
     "name": "stderr",
     "output_type": "stream",
     "text": [
      "/var/folders/58/4tzv12sd173350mg97rbrhwc0000gn/T/ipykernel_8523/1654124809.py:1: SettingWithCopyWarning: \n",
      "A value is trying to be set on a copy of a slice from a DataFrame.\n",
      "Try using .loc[row_indexer,col_indexer] = value instead\n",
      "\n",
      "See the caveats in the documentation: https://pandas.pydata.org/pandas-docs/stable/user_guide/indexing.html#returning-a-view-versus-a-copy\n",
      "  gnss_stations_red['x'] = x_utm\n",
      "/var/folders/58/4tzv12sd173350mg97rbrhwc0000gn/T/ipykernel_8523/1654124809.py:2: SettingWithCopyWarning: \n",
      "A value is trying to be set on a copy of a slice from a DataFrame.\n",
      "Try using .loc[row_indexer,col_indexer] = value instead\n",
      "\n",
      "See the caveats in the documentation: https://pandas.pydata.org/pandas-docs/stable/user_guide/indexing.html#returning-a-view-versus-a-copy\n",
      "  gnss_stations_red['y'] = y_utm\n"
     ]
    }
   ],
   "source": [
    "gnss_stations_red['x'] = x_utm\n",
    "gnss_stations_red['y'] = y_utm"
   ]
  },
  {
   "cell_type": "code",
   "execution_count": 10,
   "metadata": {},
   "outputs": [],
   "source": [
    "gnss_stations_red.to_csv(\"{:}/GNSS/list_stations_dead_sea.txt\".format(datadir),\n",
    "                         sep='\\t', index=False)"
   ]
  },
  {
   "cell_type": "code",
   "execution_count": 13,
   "metadata": {},
   "outputs": [],
   "source": [
    "for idx, row in gnss_stations_red.iterrows():\n",
    "    \n",
    "    # IGS 14\n",
    "    \n",
    "    url = \"http://geodesy.unr.edu/gps_timeseries/tenv3/IGS14/{:}.tenv3\".format(row.code)\n",
    "    response = requests.get(url, allow_redirects=True)\n",
    "    \n",
    "    with open(\"{:}/GNSS/{:}.tenv3\".format(datadir, row.code), \"w\") as f:\n",
    "        f.write(response.text)\n",
    "    \n",
    "    # African plate reference frame\n",
    "    \n",
    "    url = \"http://geodesy.unr.edu/gps_timeseries/tenv3/plates/AF/{:}.AF.tenv3\".format(row.code)\n",
    "    response = requests.get(url, allow_redirects=True)\n",
    "    \n",
    "    with open(\"{:}/GNSS/{:}.AF.tenv3\".format(datadir, row.code), \"w\") as f:\n",
    "        f.write(response.text)\n",
    "        \n",
    "    # Arabian plate reference frame\n",
    "    \n",
    "    url = \"http://geodesy.unr.edu/gps_timeseries/tenv3/plates/AR/{:}.AR.tenv3\".format(row.code)\n",
    "    response = requests.get(url, allow_redirects=True)\n",
    "    \n",
    "    with open(\"{:}/GNSS/{:}.AR.tenv3\".format(datadir, row.code), \"w\") as f:\n",
    "        f.write(response.text)"
   ]
  }
 ],
 "metadata": {
  "kernelspec": {
   "display_name": "pygdal",
   "language": "python",
   "name": "python3"
  },
  "language_info": {
   "codemirror_mode": {
    "name": "ipython",
    "version": 3
   },
   "file_extension": ".py",
   "mimetype": "text/x-python",
   "name": "python",
   "nbconvert_exporter": "python",
   "pygments_lexer": "ipython3",
   "version": "3.11.6"
  },
  "orig_nbformat": 4
 },
 "nbformat": 4,
 "nbformat_minor": 2
}
